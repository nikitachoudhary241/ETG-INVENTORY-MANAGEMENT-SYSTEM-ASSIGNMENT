{
 "cells": [
  {
   "cell_type": "code",
   "execution_count": 17,
   "metadata": {},
   "outputs": [],
   "source": [
    "import json"
   ]
  },
  {
   "cell_type": "code",
   "execution_count": 18,
   "metadata": {},
   "outputs": [
    {
     "name": "stdout",
     "output_type": "stream",
     "text": [
      "Done!!\n"
     ]
    }
   ],
   "source": [
    "fd=open('record.json','r')\n",
    "jdata = fd.read()\n",
    "record = json.loads(jdata)\n",
    "fd.close()\n",
    "\n",
    "f = open('sales.json','r')\n",
    "sale = f.read()\n",
    "sales = json.loads(sale)\n",
    "f.close()\n",
    "\n",
    "print('Done!!')     \n"
   ]
  },
  {
   "cell_type": "markdown",
   "metadata": {},
   "source": [
    "# Purchase Product"
   ]
  },
  {
   "cell_type": "code",
   "execution_count": 19,
   "metadata": {},
   "outputs": [
    {
     "name": "stdout",
     "output_type": "stream",
     "text": [
      " !-!-! Purchasing Product !-!-!\n",
      "---------------------------------------\n",
      "Enter the product_Id: 1005\n",
      "Enter the quantity: 3\n",
      "Product:  Ponds Beauty Cream \n",
      "Price:  50\n",
      "Billing Amount:  150\n",
      "---------------------------------------\n"
     ]
    }
   ],
   "source": [
    "print(\" !-!-! Purchasing Product !-!-!\")\n",
    "print(\"---------------------------------------\")\n",
    "\n",
    "user_prod  = str(input(\"Enter the product_Id: \"))\n",
    "user_quant = int(input(\"Enter the quantity: \"))\n",
    "\n",
    "\n",
    "print(\"Product: \", record[user_prod]['name'])\n",
    "print(\"Price: \", record[user_prod]['price'])\n",
    "print(\"Billing Amount: \", record[user_prod]['price'] * user_quant)\n",
    "\n",
    "record[user_prod]['quantity'] = record[user_prod]['quantity'] - user_quant\n",
    "sales[user_prod] = {\"name\": record[user_prod]['name'], \"price\": record[user_prod]['price'],\"quantity\": user_quant}\n",
    "\n",
    "print(\"---------------------------------------\")"
   ]
  },
  {
   "cell_type": "markdown",
   "metadata": {},
   "source": [
    "# Update Inventory after purchase"
   ]
  },
  {
   "cell_type": "code",
   "execution_count": 20,
   "metadata": {},
   "outputs": [
    {
     "data": {
      "text/plain": [
       "{'1001': {'name': 'Lakme Lip Blam', 'price': 150, 'quantity': 2},\n",
       " '1005': {'name': 'Ponds Beauty Cream ', 'price': 50, 'quantity': 3}}"
      ]
     },
     "execution_count": 20,
     "metadata": {},
     "output_type": "execute_result"
    }
   ],
   "source": [
    "sales"
   ]
  },
  {
   "cell_type": "code",
   "execution_count": 21,
   "metadata": {},
   "outputs": [],
   "source": [
    "jdata = json.dumps(record)\n",
    "fd = open(\"record.json\",'w')\n",
    "fd.write(jdata)\n",
    "fd.close()\n",
    "\n",
    "jdata = json.dumps(sales)\n",
    "fd = open(\"sales.json\", 'w')\n",
    "fd.write(jdata)\n",
    "fd.close()"
   ]
  },
  {
   "cell_type": "code",
   "execution_count": 22,
   "metadata": {},
   "outputs": [],
   "source": [
    "sales[user_prod] = {\"name\": record[user_prod]['name'], \"price\": record[user_prod]['price'],\"quantity\": user_quant}"
   ]
  },
  {
   "cell_type": "code",
   "execution_count": null,
   "metadata": {},
   "outputs": [],
   "source": []
  }
 ],
 "metadata": {
  "kernelspec": {
   "display_name": "Python 3",
   "language": "python",
   "name": "python3"
  },
  "language_info": {
   "codemirror_mode": {
    "name": "ipython",
    "version": 3
   },
   "file_extension": ".py",
   "mimetype": "text/x-python",
   "name": "python",
   "nbconvert_exporter": "python",
   "pygments_lexer": "ipython3",
   "version": "3.8.3"
  }
 },
 "nbformat": 4,
 "nbformat_minor": 4
}
